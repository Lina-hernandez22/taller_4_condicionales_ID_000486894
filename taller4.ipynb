{
  "nbformat": 4,
  "nbformat_minor": 0,
  "metadata": {
    "colab": {
      "provenance": [],
      "authorship_tag": "ABX9TyMrCiMH4lqbxG+QX388jjq7",
      "include_colab_link": true
    },
    "kernelspec": {
      "name": "python3",
      "display_name": "Python 3"
    },
    "language_info": {
      "name": "python"
    }
  },
  "cells": [
    {
      "cell_type": "markdown",
      "metadata": {
        "id": "view-in-github",
        "colab_type": "text"
      },
      "source": [
        "<a href=\"https://colab.research.google.com/github/Lina-hernandez22/taller_4_condicionales_ID_000486894/blob/main/taller4.ipynb\" target=\"_parent\"><img src=\"https://colab.research.google.com/assets/colab-badge.svg\" alt=\"Open In Colab\"/></a>"
      ]
    },
    {
      "cell_type": "markdown",
      "source": [
        "## PROBLEMA 1: Calculadora de calificaciones\n",
        "\n",
        "Escribe un programa en Python que solicite al usuario ingresar una calificación numérica (de 0 a 5) y luego muestre un mensaje que diga si el estudiante aprobó o reprobó. Utiliza una estructura selectiva doble (if - else).\n",
        "\n"
      ],
      "metadata": {
        "id": "W4AMFEwvexoA"
      }
    },
    {
      "cell_type": "code",
      "execution_count": null,
      "metadata": {
        "colab": {
          "base_uri": "https://localhost:8080/"
        },
        "id": "gUgQ4FXxewJT",
        "outputId": "7ca35b2b-4b47-455d-d551-1b27d462e4b9"
      },
      "outputs": [
        {
          "output_type": "stream",
          "name": "stdout",
          "text": [
            "ingrese un numero de 0 a 54\n",
            "aprodado\n"
          ]
        }
      ],
      "source": [
        "\n",
        "calificacion = float(input(\"ingrese un numero de 0 a 5\"))\n",
        "\n",
        "if calificacion <= 2.9:\n",
        "  print(\"reprobado\")\n",
        "\n",
        "else:\n",
        "  print(\"aprodado\")\n"
      ]
    },
    {
      "cell_type": "markdown",
      "source": [
        "## PROBLEMA 2:\n",
        "\n",
        "Escribe un programa en Python que solicite al usuario ingresar un número y luego determine e imprima si el número es positivo, negativo o cero utilizando estructuras selectivas doble (if - else)."
      ],
      "metadata": {
        "id": "kyiU5FQ_j3gf"
      }
    },
    {
      "cell_type": "code",
      "source": [
        "numero = float(input(\"ingrese un numero\"))\n",
        "\n",
        "if numero <0:\n",
        "  print(\"negativo\")\n",
        "\n",
        "if numero >0:\n",
        "  print(\"positivo\")\n",
        "\n",
        "if numero ==0:\n",
        "  print(\"cero\")\n",
        "\n"
      ],
      "metadata": {
        "colab": {
          "base_uri": "https://localhost:8080/"
        },
        "id": "T3tEIOJ6h4Mk",
        "outputId": "10b69589-80f0-4dce-91a4-618740862020"
      },
      "execution_count": null,
      "outputs": [
        {
          "output_type": "stream",
          "name": "stdout",
          "text": [
            "ingrese un numero-5\n",
            "negativo\n"
          ]
        }
      ]
    },
    {
      "cell_type": "markdown",
      "source": [
        "## problema 3:\n",
        "\n",
        "Escribe un programa en Python que solicite al usuario ingresar una contraseña. Si la contraseña es \"python123\", el programa debe imprimir \"Contraseña válida\". De lo contrario, debe imprimir \"Contraseña incorrecta\". UDliza una estructura selecDva doble (if - else)"
      ],
      "metadata": {
        "id": "oZsfVlDgoAZ0"
      }
    },
    {
      "cell_type": "code",
      "source": [
        "contraseña = input(\"ingrese la contraseña:\")\n",
        "\n",
        "if contraseña == \"python123\":\n",
        "  print(\"contraseña valida\")\n",
        "\n",
        "else:\n",
        "  print(\"contraseña incorrecta\")"
      ],
      "metadata": {
        "colab": {
          "base_uri": "https://localhost:8080/"
        },
        "id": "wc3dQm9qlwgl",
        "outputId": "16d01f12-7316-466a-98b9-76a54a69da36"
      },
      "execution_count": null,
      "outputs": [
        {
          "output_type": "stream",
          "name": "stdout",
          "text": [
            "ingrese la contraseña:python123\n",
            "contraseña valida\n"
          ]
        }
      ]
    },
    {
      "cell_type": "markdown",
      "source": [
        "## problema 4:\n",
        "\n",
        "Escribe un programa en Python que solicite al usuario ingresar un número y determine e imprima si el número es par o impar utilizando una estructura selectiva doble (if - else)."
      ],
      "metadata": {
        "id": "CW0Jd7R-pacs"
      }
    },
    {
      "cell_type": "code",
      "source": [
        "\n",
        "numero = float(input(\"ingrese un numero:\"))\n",
        "\n",
        "if numero % 2 == 0:\n",
        "  print(\"es un numero par\")\n",
        "\n",
        "else:\n",
        "  print(\"es un numero impar\")\n"
      ],
      "metadata": {
        "id": "SiFMYTHSorOk",
        "colab": {
          "base_uri": "https://localhost:8080/"
        },
        "outputId": "ce13b347-f3f8-40d1-cf56-9c501b6d6244"
      },
      "execution_count": 5,
      "outputs": [
        {
          "output_type": "stream",
          "name": "stdout",
          "text": [
            "ingrese un numero:9\n",
            "es un numero impar\n"
          ]
        }
      ]
    },
    {
      "cell_type": "markdown",
      "source": [
        "## problema 5:Determinar el número mayor\n",
        "\n",
        "Escribe un programa en Python que solicite al usuario ingresar cinco números y luego determine e imprima cuál de los cinco números es mayor utilizando estructuras selectivas doble (if - else)."
      ],
      "metadata": {
        "id": "jzuHMCQ7o7qi"
      }
    },
    {
      "cell_type": "code",
      "source": [
        "numero_1 = float(input(\"ingrese el numero uno:\"))\n",
        "numero_2 = float(input(\"ingrese el numero dos:\"))\n",
        "numero_3 = float(input(\"ingrese el numero tres:\"))\n",
        "numero_4 = float(input(\"ingrese el numero cuatro:\"))\n",
        "numero_5 = float(input(\"ingrese el numero cinco:\"))\n",
        "\n",
        "if numero_1 >= numero_2 and numero_1 >= numero_3 and numero_1 >= numero_4 and numero_1 >= numero_5:\n",
        "  mayor = numero_1\n",
        "\n",
        "if numero_2 >= numero_1 and numero_2 >= numero_3 and numero_2 >= numero_4 and numero_2 >= numero_5:\n",
        "  mayor = numero_2\n",
        "\n",
        "if numero_3 >= numero_1 and numero_3 >= numero_2 and numero_3 >= numero_4 and numero_3 >= numero_5:\n",
        "  mayor = numero_3\n",
        "\n",
        "if numero_4 >= numero_1 and numero_4 >= numero_2 and numero_4 >= numero_3 and numero_4 >= numero_5:\n",
        "  mayor = numero_4\n",
        "\n",
        "if numero_5 >= numero_1 and numero_5 >= numero_2 and numero_5 >= numero_3 and numero_5 >= numero_4:\n",
        "  mayor = numero_5\n",
        "\n",
        "print(\"el numero mayor es:\", mayor)"
      ],
      "metadata": {
        "colab": {
          "base_uri": "https://localhost:8080/"
        },
        "id": "Oah6gXGJmY3F",
        "outputId": "b375c7bf-112a-42c3-c885-1e17d1460662"
      },
      "execution_count": 6,
      "outputs": [
        {
          "output_type": "stream",
          "name": "stdout",
          "text": [
            "ingrese el numero uno:5\n",
            "ingrese el numero dos:4\n",
            "ingrese el numero tres:8\n",
            "ingrese el numero cuatro:3\n",
            "ingrese el numero cinco:7\n",
            "el numero mayor es: 8.0\n"
          ]
        }
      ]
    },
    {
      "cell_type": "markdown",
      "source": [
        "## problema 6: Categorizar edades\n",
        "\n",
        "Escribe un programa en Python que solicite al usuario ingresar una edad y determine e imprima en qué categoría se encuentra la persona: \"Niño\" (0-12 años), \"Adolescente\" (13-19 años), \"Adulto\" (20-64 años) o \"Adulto Mayor\" (65 o más años)"
      ],
      "metadata": {
        "id": "V0uYEkjxspTn"
      }
    },
    {
      "cell_type": "code",
      "source": [
        "edad = float(input(\"ingrese la edad:\"))\n",
        "\n",
        "if edad >= 0 and edad <= 12:\n",
        "  print(\"niño\")\n",
        "\n",
        "if edad >= 13 and edad <= 19:\n",
        "  print(\"adolescente\")\n",
        "\n",
        "if edad >= 20 and edad <= 64:\n",
        "  print(\"adulto\")\n",
        "\n",
        "if edad >= 65:\n",
        "  print(\"adulto mayor\")\n",
        ""
      ],
      "metadata": {
        "colab": {
          "base_uri": "https://localhost:8080/"
        },
        "id": "DWIInVY0saCx",
        "outputId": "4958feef-44b5-4459-d13e-1ea13c8dad51"
      },
      "execution_count": 7,
      "outputs": [
        {
          "output_type": "stream",
          "name": "stdout",
          "text": [
            "ingrese la edad:12\n",
            "niño\n"
          ]
        }
      ]
    },
    {
      "cell_type": "code",
      "source": [],
      "metadata": {
        "id": "LM1u3F3Vt7tX"
      },
      "execution_count": null,
      "outputs": []
    }
  ]
}