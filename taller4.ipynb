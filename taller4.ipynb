{
  "nbformat": 4,
  "nbformat_minor": 0,
  "metadata": {
    "colab": {
      "provenance": [],
      "authorship_tag": "ABX9TyPpbD2jXPoJyvTGHliDUIwN",
      "include_colab_link": true
    },
    "kernelspec": {
      "name": "python3",
      "display_name": "Python 3"
    },
    "language_info": {
      "name": "python"
    }
  },
  "cells": [
    {
      "cell_type": "markdown",
      "metadata": {
        "id": "view-in-github",
        "colab_type": "text"
      },
      "source": [
        "<a href=\"https://colab.research.google.com/github/Lina-hernandez22/taller_4_condicionales_ID_000486894/blob/main/taller4.ipynb\" target=\"_parent\"><img src=\"https://colab.research.google.com/assets/colab-badge.svg\" alt=\"Open In Colab\"/></a>"
      ]
    },
    {
      "cell_type": "markdown",
      "source": [
        "## PROBLEMA 1: Calculadora de calificaciones\n",
        "\n",
        "Escribe un programa en Python que solicite al usuario ingresar una calificación numérica (de 0 a 5) y luego muestre un mensaje que diga si el estudiante aprobó o reprobó. Utiliza una estructura selectiva doble (if - else).\n",
        "\n"
      ],
      "metadata": {
        "id": "W4AMFEwvexoA"
      }
    },
    {
      "cell_type": "code",
      "execution_count": 7,
      "metadata": {
        "colab": {
          "base_uri": "https://localhost:8080/"
        },
        "id": "gUgQ4FXxewJT",
        "outputId": "7ca35b2b-4b47-455d-d551-1b27d462e4b9"
      },
      "outputs": [
        {
          "output_type": "stream",
          "name": "stdout",
          "text": [
            "ingrese un numero de 0 a 54\n",
            "aprodado\n"
          ]
        }
      ],
      "source": [
        "\n",
        "calificacion = float(input(\"ingrese un numero de 0 a 5\"))\n",
        "\n",
        "if calificacion <= 2.9:\n",
        "  print(\"reprobado\")\n",
        "\n",
        "else:\n",
        "  print(\"aprodado\")\n"
      ]
    },
    {
      "cell_type": "markdown",
      "source": [
        "## PROBLEMA 2:\n",
        "\n",
        "Escribe un programa en Python que solicite al usuario ingresar un número y luego determine e imprima si el número es positivo, negativo o cero utilizando estructuras selectivas doble (if - else)."
      ],
      "metadata": {
        "id": "kyiU5FQ_j3gf"
      }
    },
    {
      "cell_type": "code",
      "source": [
        "numero = float(input(\"ingrese un numero\"))\n",
        "\n",
        "if numero <0:\n",
        "  print(\"negativo\")\n",
        "\n",
        "if numero >0:\n",
        "  print(\"positivo\")\n",
        "\n",
        "if numero ==0:\n",
        "  print(\"cero\")\n",
        "\n"
      ],
      "metadata": {
        "colab": {
          "base_uri": "https://localhost:8080/"
        },
        "id": "T3tEIOJ6h4Mk",
        "outputId": "10b69589-80f0-4dce-91a4-618740862020"
      },
      "execution_count": 17,
      "outputs": [
        {
          "output_type": "stream",
          "name": "stdout",
          "text": [
            "ingrese un numero-5\n",
            "negativo\n"
          ]
        }
      ]
    },
    {
      "cell_type": "markdown",
      "source": [
        "## problema 3:\n",
        "\n",
        "Escribe un programa en Python que solicite al usuario ingresar una contraseña. Si la contraseña es \"python123\", el programa debe imprimir \"Contraseña válida\". De lo contrario, debe imprimir \"Contraseña incorrecta\". UDliza una estructura selecDva doble (if - else)"
      ],
      "metadata": {
        "id": "oZsfVlDgoAZ0"
      }
    },
    {
      "cell_type": "code",
      "source": [
        "contraseña = input(\"ingrese la contraseña:\")\n",
        "\n",
        "if contraseña == \"python123\":\n",
        "  print(\"contraseña valida\")\n",
        "\n",
        "else:\n",
        "  print(\"contraseña incorrecta\")"
      ],
      "metadata": {
        "colab": {
          "base_uri": "https://localhost:8080/"
        },
        "id": "wc3dQm9qlwgl",
        "outputId": "16d01f12-7316-466a-98b9-76a54a69da36"
      },
      "execution_count": 23,
      "outputs": [
        {
          "output_type": "stream",
          "name": "stdout",
          "text": [
            "ingrese la contraseña:python123\n",
            "contraseña valida\n"
          ]
        }
      ]
    },
    {
      "cell_type": "markdown",
      "source": [
        "## problema 4:\n",
        "\n",
        "Escribe un programa en Python que solicite al usuario ingresar un número y determine e imprima si el número es par o impar utilizando una estructura selectiva doble (if - else)."
      ],
      "metadata": {
        "id": "CW0Jd7R-pacs"
      }
    },
    {
      "cell_type": "code",
      "source": [
        "numero = float(input(\"ingrese un numero\"))\n",
        "\n",
        "if numero %2 == 0:\n",
        "\n"
      ],
      "metadata": {
        "id": "SiFMYTHSorOk"
      },
      "execution_count": null,
      "outputs": []
    }
  ]
}